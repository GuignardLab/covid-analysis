{
 "cells": [
  {
   "cell_type": "markdown",
   "id": "9ae86448",
   "metadata": {},
   "source": [
    "## Imports necessary for the code to work"
   ]
  },
  {
   "cell_type": "code",
   "execution_count": 1,
   "id": "2a9c8ab9",
   "metadata": {},
   "outputs": [],
   "source": [
    "from src import get_lethality_rate\n",
    "import pandas as pd"
   ]
  },
  {
   "cell_type": "markdown",
   "id": "4f46b01e",
   "metadata": {},
   "source": [
    "## Loading the dateset\n",
    "The dataset is loaded from [Our World in Data](https://ourworldindata.org/) [covid-19-data repository](https://github.com/owid/covid-19-data/)."
   ]
  },
  {
   "cell_type": "code",
   "execution_count": null,
   "id": "f9d7ad40",
   "metadata": {},
   "outputs": [],
   "source": [
    "data_path = 'https://github.com/owid/covid-19-data/raw/master/public/data/owid-covid-data.csv'\n",
    "data = pd.read_csv(data_path)\n",
    "countries = data['location'].unique()"
   ]
  },
  {
   "cell_type": "markdown",
   "id": "45e22b9d",
   "metadata": {},
   "source": [
    "## Plotting examples\n",
    "\n",
    "The function `get_lethality_rate` allows us to plot our dataset.\n",
    "\n",
    "By default, this function plots some measurements of the lethality rate.\n",
    "Here we compute the lethality rate as the number of people who died within a given time window of size $\\delta d$ days divided by the number of people tested positive within the same time window of size $\\delta d$ but $\\delta d$ days before.\n",
    "\n",
    "In other words, if $LR$ is our lethality rate then $LR=\\frac{Death_{d, d+\\delta d}}{Positive_{d-\\delta d, d}}$ where $Death_{d, d+\\delta d}$ is the number of death in between the days $d$ and the day being $\\delta d$ days later: $d+\\delta d$. And $Positive_{d-\\delta d, d}$ is the number of positive people between the day $d$ and the day $\\delta d$ before: $d-\\delta d$.\n",
    "\n",
    "Here we use value of $\\delta d=18$ days, which is the average number of days to for a patient to die from corona (`death_delay` in the code).\n",
    "\n",
    "The function can be parameterized. The following values can be changed to change the display (marginally or drastically).\n",
    "- `country`: Which country to look at. The list of all countries available can be found by running the command `data['location'].unique()`. One can use `\"World\"` as a country to display the overall numbers.\n",
    "- `additional_plots`: Allows adding plots to be displayed. In the following example will be plotted the number of new cases (`'new_cases`), the number of patient hospitalised (`'hosp_patients'`), the number of patients in intensive care unit (`'icu_patients'`) and the percentage of people vaccinated (`'people_vaccinated_per_hundred'`). The list of all possible plots is accessible by running the command `data.keys()`.\n",
    "- `smoothing_size`: It is recommended to smooth the dataset, the amplitude of the smoothing is determined here by the `smoothing_size` parameter. Its unit is in days, meaning that in our following example where the `smoothing_size` is `7`, the smoothing is over a week.\n",
    "- `death_delay`: $\\delta d$ value mentioned earlier. Here we use a delay of 2 weeks\n",
    "- `start`: it is possible to change the starting date from which to visualise the data. The value is expected as a string in the format 'yyyy-mm-dd'. If the value is put to `None` then the beginning of the dataset will be used.\n",
    "- `end`: same as start but for the end of the plotting window."
   ]
  },
  {
   "cell_type": "code",
   "execution_count": null,
   "id": "eb69e398",
   "metadata": {
    "scrolled": false
   },
   "outputs": [],
   "source": [
    "fig = get_lethality_rate(data, \n",
    "                         country='France',\n",
    "                         additional_plots=['new_cases_per_million', 'new_deaths_per_million',\n",
    "                                           'people_vaccinated_per_hundred'],\n",
    "                         smoothing_size=7, death_delay=18,\n",
    "                         start='2020-10-01', end='2020-12-31');\n",
    "fig.savefig('out/FR-Nov-2020.pdf')"
   ]
  },
  {
   "cell_type": "code",
   "execution_count": null,
   "id": "a5c43e43",
   "metadata": {},
   "outputs": [],
   "source": [
    "fig = get_lethality_rate(data, \n",
    "                         country='France',\n",
    "                         additional_plots=['new_cases_per_million', 'new_deaths_per_million',\n",
    "                                           'people_vaccinated_per_hundred'],\n",
    "                         smoothing_size=7, death_delay=18,\n",
    "                         start='2021-06-06', end='2021-10-31');\n",
    "fig.savefig('out/FR-Aug-2021.pdf')"
   ]
  },
  {
   "cell_type": "markdown",
   "id": "b989243e",
   "metadata": {},
   "source": [
    "## Other example\n",
    "In the following plot only the death ratio is plotted"
   ]
  },
  {
   "cell_type": "code",
   "execution_count": null,
   "id": "eb7ca416",
   "metadata": {},
   "outputs": [],
   "source": [
    "fig = get_lethality_rate(data, \n",
    "                         country='United Kingdom',\n",
    "                         additional_plots=['new_cases_per_million', 'new_deaths_per_million',\n",
    "                                           'people_vaccinated_per_hundred'],\n",
    "                         smoothing_size=7, death_delay=18,\n",
    "                         start='2020-12-01', end='2021-02-15');\n",
    "fig.savefig('out/UK-Jan-2021.pdf')"
   ]
  },
  {
   "cell_type": "code",
   "execution_count": null,
   "id": "ce3c2de3",
   "metadata": {},
   "outputs": [],
   "source": [
    "fig = get_lethality_rate(data, \n",
    "                         country='United Kingdom',\n",
    "                         additional_plots=['new_cases_per_million', 'new_deaths_per_million',\n",
    "                                           'people_vaccinated_per_hundred'],\n",
    "                         smoothing_size=7, death_delay=18,\n",
    "                         start='2021-06-15', end='2021-08-31');\n",
    "fig.savefig('out/UK-Jul-2021.pdf')"
   ]
  },
  {
   "cell_type": "code",
   "execution_count": null,
   "id": "9d35e6d1",
   "metadata": {},
   "outputs": [],
   "source": [
    "fig = get_lethality_rate(data, \n",
    "                         country='India',\n",
    "                         additional_plots=['new_cases_per_million', 'new_deaths_per_million',\n",
    "                                           'people_vaccinated_per_hundred'],\n",
    "                         smoothing_size=7, death_delay=18,\n",
    "                         start=None, end=None, ylim=(0, .5));\n",
    "fig.savefig('out/India-whole.pdf')"
   ]
  },
  {
   "cell_type": "code",
   "execution_count": null,
   "id": "9e6ae742",
   "metadata": {},
   "outputs": [],
   "source": [
    "fig = get_lethality_rate(data, \n",
    "                         country='India',\n",
    "                         additional_plots=['new_cases_per_million', 'new_deaths_per_million',\n",
    "                                           'people_vaccinated_per_hundred'],\n",
    "                         smoothing_size=7, death_delay=18,\n",
    "                         start='2021-04-01', end='2021-07-31');\n",
    "fig.savefig('out/India-Jun-2021.pdf')"
   ]
  },
  {
   "cell_type": "code",
   "execution_count": null,
   "id": "88b49f01",
   "metadata": {},
   "outputs": [],
   "source": [
    "fig = get_lethality_rate(data, \n",
    "                         country='India',\n",
    "                         additional_plots=['new_cases_per_million', 'new_deaths_per_million',\n",
    "                                           'people_vaccinated_per_hundred'],\n",
    "                         smoothing_size=7, death_delay=18,\n",
    "                         start='2021-12-01', end='2022-02-15', ylim=(0, .1));\n",
    "fig.savefig('out/India-Jun-2021.pdf')"
   ]
  }
 ],
 "metadata": {
  "kernelspec": {
   "display_name": "Python 3 (ipykernel)",
   "language": "python",
   "name": "python3"
  },
  "language_info": {
   "codemirror_mode": {
    "name": "ipython",
    "version": 3
   },
   "file_extension": ".py",
   "mimetype": "text/x-python",
   "name": "python",
   "nbconvert_exporter": "python",
   "pygments_lexer": "ipython3",
   "version": "3.9.7"
  }
 },
 "nbformat": 4,
 "nbformat_minor": 5
}
